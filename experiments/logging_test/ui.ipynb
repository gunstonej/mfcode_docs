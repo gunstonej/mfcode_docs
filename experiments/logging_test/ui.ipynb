{
 "cells": [
  {
   "cell_type": "code",
   "execution_count": 5,
   "metadata": {},
   "outputs": [
    {
     "data": {
      "application/vnd.jupyter.widget-view+json": {
       "model_id": "c6f3d17f51e849c38028916154fc0462",
       "version_major": 2,
       "version_minor": 0
      },
      "text/plain": [
       "Ui(children=(IntText(value=0), IntText(value=0), IntText(value=0, disabled=True), Button(description='operate'…"
      ]
     },
     "execution_count": 5,
     "metadata": {},
     "output_type": "execute_result"
    }
   ],
   "source": [
    "import logging\n",
    "import ipywidgets as w\n",
    "\n",
    "import logging.config\n",
    "import yaml\n",
    "\n",
    "with open('file.yml', 'r') as f:\n",
    "    config = yaml.safe_load(f.read())\n",
    "    logging.config.dictConfig(config)\n",
    "\n",
    "# Get the logger, console_logger, which will print to the console.\n",
    "#logger = logging.getLogger('console_logger')\n",
    "\n",
    "\n",
    "\n",
    "from myadd import add\n",
    "from myminus import minus\n",
    "\n",
    "\n",
    "\n",
    "# REF\n",
    "# ---\n",
    "# https://github.com/jupyter-widgets/ipywidgets/pull/2268/commits/bced184b2486b1e6af61d2a3848ed755dec2071b#diff-a9f5e21507fb26263452386f1cb42ddbbaa7b7e26ccc5b1348fec1e205245b70\n",
    "# todo: use core ipywidgets when the above is merged\n",
    "\n",
    "def div(a, b):\n",
    "    try:\n",
    "        c = a / b\n",
    "        logger.debug(\"c = %s\", c)\n",
    "        return c\n",
    "    except Exception as e:\n",
    "        logger.error(\"Exception occurred\", exc_info=True)\n",
    "\n",
    "class Output(w.Output):\n",
    "    def register_logger(self, logger, *args, **kwargs):\n",
    "        \"\"\"Registers a handler to given logger to send output to output widget\"\"\"\n",
    "\n",
    "        import logging\n",
    "\n",
    "        class WidgetLogger(logging.Handler):\n",
    "            \"\"\" Class to implement a logging interface that outputs to the\n",
    "             Output widget\"\"\"\n",
    "\n",
    "            # have a class member to store the existing logger\n",
    "            logger_instance = logging.getLogger(\"__name__\")\n",
    "\n",
    "            def __init__(self, output_widget, *args, **kwargs):\n",
    "                # Initialize the Handler\n",
    "                logging.Handler.__init__(self, *args)\n",
    "                \n",
    "                # formatter = logging.Formatter('%(asctime)s - %(name)s - %(levelname)s - %(message)s')\n",
    "                # self.setFormatter(formatter)\n",
    "\n",
    "                # save outer_instance\n",
    "                self.output = output_widget\n",
    "\n",
    "                # optional take format\n",
    "                # setFormatter function is derived from logging.Handler\n",
    "                for key, value in kwargs.items():\n",
    "                    if \"{}\".format(key) == \"format\":\n",
    "                        self.setFormatter(value)\n",
    "\n",
    "                # make the logger send data to this class\n",
    "                self.logger_instance.addHandler(self)\n",
    "\n",
    "            def emit(self, record):\n",
    "                \"\"\" Overload of logging.Handler method \"\"\"\n",
    "\n",
    "                record = self.format(record)\n",
    "                self.output.outputs = ({'name': 'stdout',\n",
    "                                                'output_type': 'stream',\n",
    "                                                'text': (record + '\\n')},) + self.output.outputs\n",
    "\n",
    "        logger.addHandler(WidgetLogger(self, *args, **kwargs))\n",
    "\n",
    "\n",
    "class Ui(w.VBox):\n",
    "    def __init__(self, loggers: list):\n",
    "        self.a = w.IntText()\n",
    "        self.b = w.IntText()\n",
    "        self.c = w.IntText()\n",
    "        self.out = Output()\n",
    "        [self.out.register_logger(logger, format=logging.Formatter('%(asctime)s - %(name)s - %(levelname)s - %(message)s')) for logger in loggers]\n",
    "        self.acc = w.Accordion(children=[self.out])\n",
    "        self.c.disabled = True\n",
    "        self.div = w.Button(description=\"operate\")\n",
    "        self.div.on_click(self.on_div)\n",
    "        super().__init__([self.a, self.b, self.c, self.div, self.acc])\n",
    "\n",
    "    def on_div(self, b):\n",
    "        _ = add(self.a.value, self.b.value)\n",
    "        _ = minus(_, self.a.value)\n",
    "        self.c.value = div(_, self.b.value)\n",
    "\n",
    "\n",
    "logger = logging.getLogger(__name__)\n",
    "logger.info('This is a debug message')\n",
    "loggers = [logging.getLogger(name) for name in logging.root.manager.loggerDict]\n",
    "loggers = [l for l in loggers if \"my\" in l.name ] + [logger]\n",
    "ui = Ui(loggers=loggers)\n",
    "ui"
   ]
  },
  {
   "cell_type": "code",
   "execution_count": null,
   "metadata": {},
   "outputs": [],
   "source": [
    "loggi"
   ]
  },
  {
   "cell_type": "code",
   "execution_count": 9,
   "metadata": {},
   "outputs": [
    {
     "data": {
      "text/plain": [
       "[<Logger myadd (WARNING)>,\n",
       " <Logger myminus (WARNING)>,\n",
       " <Logger __main__ (WARNING)>]"
      ]
     },
     "execution_count": 9,
     "metadata": {},
     "output_type": "execute_result"
    }
   ],
   "source": [
    "# [logging.getLogger(name) for name in logging.root.manager.loggerDict]\n",
    "loggers\n"
   ]
  },
  {
   "cell_type": "code",
   "execution_count": 4,
   "metadata": {},
   "outputs": [
    {
     "data": {
      "text/plain": [
       "[<Logger myadd (WARNING)>,\n",
       " <Logger myminus (WARNING)>,\n",
       " <Logger __main__ (WARNING)>]"
      ]
     },
     "execution_count": 4,
     "metadata": {},
     "output_type": "execute_result"
    }
   ],
   "source": [
    "loggers"
   ]
  },
  {
   "cell_type": "code",
   "execution_count": 8,
   "metadata": {},
   "outputs": [
    {
     "data": {
      "application/vnd.jupyter.widget-view+json": {
       "model_id": "c3a55181954a4d079369a054f94005da",
       "version_major": 2,
       "version_minor": 0
      },
      "text/plain": [
       "Button(description='click me to raise an exception', layout=Layout(width='300px'), style=ButtonStyle())"
      ]
     },
     "execution_count": 8,
     "metadata": {},
     "output_type": "execute_result"
    }
   ],
   "source": [
    "debug_view = w.Output(layout={'border': '1px solid black'})\n",
    "\n",
    "@debug_view.capture(clear_output=True)\n",
    "def bad_callback(event):\n",
    "    print('This is about to explode')\n",
    "    return 1.0 / 0.0\n",
    "\n",
    "button = w.Button(\n",
    "    description='click me to raise an exception',\n",
    "    layout={'width': '300px'}\n",
    ")\n",
    "button.on_click(bad_callback)\n",
    "button"
   ]
  },
  {
   "cell_type": "code",
   "execution_count": null,
   "metadata": {},
   "outputs": [],
   "source": []
  },
  {
   "cell_type": "code",
   "execution_count": 10,
   "metadata": {},
   "outputs": [],
   "source": [
    "# https://ipyw.readthedocs.io/en/7.7.1/examples/Output%20Widget.html\n",
    "\n",
    "import ipywidgets as w\n",
    "import logging\n",
    "\n"
   ]
  },
  {
   "cell_type": "code",
   "execution_count": 11,
   "metadata": {},
   "outputs": [
    {
     "data": {
      "text/plain": [
       "'__main__'"
      ]
     },
     "execution_count": 11,
     "metadata": {},
     "output_type": "execute_result"
    }
   ],
   "source": [
    "handler.clear_logs()\n",
    "logger.info('Starting program')\n",
    "\n",
    "try:\n",
    "    logger.info('About to try something dangerous...')\n",
    "    1.0/0.0\n",
    "except Exception as e:\n",
    "    logger.exception('An error occurred!')"
   ]
  }
 ],
 "metadata": {
  "kernelspec": {
   "display_name": "Python 3 (ipykernel)",
   "language": "python",
   "name": "python3"
  },
  "language_info": {
   "codemirror_mode": {
    "name": "ipython",
    "version": 3
   },
   "file_extension": ".py",
   "mimetype": "text/x-python",
   "name": "python",
   "nbconvert_exporter": "python",
   "pygments_lexer": "ipython3",
   "version": "3.9.15"
  },
  "vscode": {
   "interpreter": {
    "hash": "2945cf1448f5962318cd8d4564004b5e22175de685c8c5e6d8925611c08f83bc"
   }
  }
 },
 "nbformat": 4,
 "nbformat_minor": 4
}
