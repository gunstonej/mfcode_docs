{
 "cells": [
  {
   "cell_type": "markdown",
   "id": "1a71ecff-b491-4a50-9002-accd5f812358",
   "metadata": {},
   "source": [
    "# Numpy"
   ]
  },
  {
   "cell_type": "code",
   "execution_count": 1,
   "id": "63ce1054-c506-4213-8b3d-eba0b8fdf1f1",
   "metadata": {},
   "outputs": [],
   "source": [
    "import numpy as np"
   ]
  },
  {
   "cell_type": "markdown",
   "id": "822ecd8f-97b7-4cab-9754-e65301e444e1",
   "metadata": {},
   "source": [
    "## vectorisation"
   ]
  },
  {
   "cell_type": "code",
   "execution_count": 3,
   "id": "18c3e244-3443-4639-89d6-781dc005d603",
   "metadata": {},
   "outputs": [
    {
     "data": {
      "text/plain": [
       "array([[  1,   4,   9,  16],\n",
       "       [ 25,  36,  49,  64],\n",
       "       [ 81, 100, 121, 144]])"
      ]
     },
     "execution_count": 3,
     "metadata": {},
     "output_type": "execute_result"
    }
   ],
   "source": [
    "import functools as ft\n",
    "a = np.array([[1, 2, 3, 4], [5, 6, 7, 8], [9, 10, 11, 12]])\n",
    "\n",
    "def f(x, y=1):\n",
    "    # return x ** y\n",
    "    return x ** y\n",
    "\n",
    "vf = np.vectorize(f)\n",
    "vf(a, y=2)"
   ]
  },
  {
   "cell_type": "markdown",
   "id": "9dc87d3f-2c54-42b4-bb86-eb155e20b4c5",
   "metadata": {},
   "source": [
    "### array methods\n",
    "\n"
   ]
  },
  {
   "cell_type": "code",
   "execution_count": 4,
   "id": "9a5ee1b6-4b29-48a6-9ba4-774e1db1d04c",
   "metadata": {},
   "outputs": [
    {
     "data": {
      "text/plain": [
       "array([[ 2,  4,  6,  8],\n",
       "       [10, 12, 14, 16],\n",
       "       [18, 20, 22, 24]])"
      ]
     },
     "execution_count": 4,
     "metadata": {},
     "output_type": "execute_result"
    }
   ],
   "source": [
    "import numpy as np\n",
    "import functools as ft\n",
    "a = np.array([[1, 2, 3, 4], [5, 6, 7, 8], [9, 10, 11, 12]])\n",
    "\n",
    "def f(x, y):\n",
    "    return x * y\n",
    "\n",
    "y = np.array([2, 2, 2, 2])\n",
    "y = 2\n",
    "vf = np.vectorize(f)\n",
    "vf(a, y=y)\n",
    "\n",
    "#a * y"
   ]
  },
  {
   "cell_type": "markdown",
   "id": "27b71da8-cb36-45ad-8889-4469e09064c9",
   "metadata": {},
   "source": [
    "### Working with 3 dimensional arrays"
   ]
  },
  {
   "cell_type": "markdown",
   "id": "a807bc03-30f3-4bff-856b-c08cb0080985",
   "metadata": {},
   "source": [
    "Mulitplying a and b together (f function) will return the same shape array.\n"
   ]
  },
  {
   "cell_type": "code",
   "execution_count": 6,
   "id": "36dc9420-6e3f-446c-8ec5-7c5e0033f398",
   "metadata": {},
   "outputs": [
    {
     "name": "stdout",
     "output_type": "stream",
     "text": [
      "Multiping arrays a and b gives the same shape: (1, 2, 2)\n",
      "[[[1. 1.]\n",
      "  [1. 1.]]]\n",
      "Multiping arrays a and c gives: (2, 2, 2)\n",
      "[[[1. 1.]\n",
      "  [1. 1.]]\n",
      "\n",
      " [[1. 1.]\n",
      "  [1. 1.]]]\n"
     ]
    }
   ],
   "source": [
    "a = np.ones([1, 2, 2])\n",
    "b = np.ones([1, 2, 2]) \n",
    "c = np.ones([2, 1, 1])\n",
    "\n",
    "out = f(a, b)\n",
    "print(f\"Multiping arrays a and b gives the same shape: {out.shape}\")\n",
    "print(out)\n",
    "\n",
    "out = f(a, c)\n",
    "print(f\"Multiping arrays a and c gives: {out.shape}\")\n",
    "print(out)"
   ]
  },
  {
   "cell_type": "code",
   "execution_count": 7,
   "id": "1297f5bf-d397-484e-8a33-1bc9e31906f7",
   "metadata": {},
   "outputs": [
    {
     "data": {
      "text/plain": [
       "(1, 2, 2)"
      ]
     },
     "execution_count": 7,
     "metadata": {},
     "output_type": "execute_result"
    }
   ],
   "source": [
    "a.shape\n"
   ]
  },
  {
   "cell_type": "code",
   "execution_count": null,
   "id": "f888f21f-19ab-4c6e-ba4e-fc4d7152d97c",
   "metadata": {},
   "outputs": [],
   "source": []
  }
 ],
 "metadata": {
  "kernelspec": {
   "display_name": "Python [conda env:ipyautoui]",
   "language": "python",
   "name": "conda-env-ipyautoui-xpython"
  },
  "language_info": {
   "file_extension": ".py",
   "mimetype": "text/x-python",
   "name": "python",
   "version": "3.9.9"
  }
 },
 "nbformat": 4,
 "nbformat_minor": 5
}
