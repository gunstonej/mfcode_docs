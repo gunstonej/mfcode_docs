{
 "cells": [
  {
   "cell_type": "markdown",
   "id": "1a71ecff-b491-4a50-9002-accd5f812358",
   "metadata": {},
   "source": [
    "# Numpy"
   ]
  },
  {
   "cell_type": "code",
   "execution_count": 1,
   "id": "63ce1054-c506-4213-8b3d-eba0b8fdf1f1",
   "metadata": {},
   "outputs": [],
   "source": [
    "import numpy as np"
   ]
  },
  {
   "cell_type": "markdown",
   "id": "822ecd8f-97b7-4cab-9754-e65301e444e1",
   "metadata": {},
   "source": [
    "## vectorisation"
   ]
  },
  {
   "cell_type": "code",
   "execution_count": 2,
   "id": "18c3e244-3443-4639-89d6-781dc005d603",
   "metadata": {},
   "outputs": [
    {
     "data": {
      "text/plain": [
       "array([[  1,   4,   9,  16],\n",
       "       [ 25,  36,  49,  64],\n",
       "       [ 81, 100, 121, 144]])"
      ]
     },
     "execution_count": 2,
     "metadata": {},
     "output_type": "execute_result"
    }
   ],
   "source": [
    "import numpy as np\n",
    "import functools as ft\n",
    "a = np.array([[1, 2, 3, 4], [5, 6, 7, 8], [9, 10, 11, 12]])\n",
    "\n",
    "def f(x, y=1):\n",
    "    # return x ** y\n",
    "    return x ** y\n",
    "\n",
    "vf = np.vectorize(f)\n",
    "vf(a, y=2)"
   ]
  },
  {
   "cell_type": "markdown",
   "id": "9dc87d3f-2c54-42b4-bb86-eb155e20b4c5",
   "metadata": {},
   "source": [
    "### array methods\n",
    "\n"
   ]
  },
  {
   "cell_type": "code",
   "execution_count": 3,
   "id": "9a5ee1b6-4b29-48a6-9ba4-774e1db1d04c",
   "metadata": {},
   "outputs": [
    {
     "data": {
      "text/plain": [
       "array([[ 2,  4,  6,  8],\n",
       "       [10, 12, 14, 16],\n",
       "       [18, 20, 22, 24]])"
      ]
     },
     "execution_count": 3,
     "metadata": {},
     "output_type": "execute_result"
    }
   ],
   "source": [
    "import numpy as np\n",
    "import functools as ft\n",
    "a = np.array([[1, 2, 3, 4], [5, 6, 7, 8], [9, 10, 11, 12]])\n",
    "\n",
    "def f(x, y):\n",
    "    return x * y\n",
    "\n",
    "y = np.array([2, 2, 2, 2])\n",
    "vf = np.vectorize(f)\n",
    "vf(a, y=y)\n",
    "\n",
    "#a * y"
   ]
  }
 ],
 "metadata": {
  "kernelspec": {
   "display_name": "Python [conda env:ipyautoui]",
   "language": "python",
   "name": "conda-env-ipyautoui-xpython"
  },
  "language_info": {
   "file_extension": ".py",
   "mimetype": "text/x-python",
   "name": "python",
   "version": "3.9.7"
  }
 },
 "nbformat": 4,
 "nbformat_minor": 5
}
