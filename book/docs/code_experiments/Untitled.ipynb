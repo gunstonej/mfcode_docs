{
 "cells": [
  {
   "cell_type": "code",
   "execution_count": 1,
   "id": "e668567f-c7fc-4e18-8b25-973917ef4621",
   "metadata": {},
   "outputs": [],
   "source": [
    "from jsonschema import validate\n",
    "\n",
    "# A sample schema, like what we'd get from json.load()\n",
    "schema = {\n",
    "    \"type\" : \"object\",\n",
    "    \"properties\" : {\n",
    "        \"price\" : {\"type\" : \"number\"},\n",
    "        \"name\" : {\"type\" : \"string\"},\n",
    "    },\n",
    "}"
   ]
  },
  {
   "cell_type": "code",
   "execution_count": 7,
   "id": "33f4697b-14e7-498c-b831-56ff44f2f041",
   "metadata": {},
   "outputs": [
    {
     "ename": "ValidationError",
     "evalue": "'Invalid' is not of type 'number'\n\nFailed validating 'type' in schema['properties']['price']:\n    {'type': 'number'}\n\nOn instance['price']:\n    'Invalid'",
     "output_type": "error",
     "traceback": [
      "\u001b[0;31m---------------------------------------------------------------------------\u001b[0m",
      "\u001b[0;31mValidationError\u001b[0m                           Traceback (most recent call last)",
      "Input \u001b[0;32mIn [7]\u001b[0m, in \u001b[0;36m<module>\u001b[0;34m\u001b[0m\n\u001b[1;32m      1\u001b[0m validate(instance\u001b[38;5;241m=\u001b[39m{\u001b[38;5;124m\"\u001b[39m\u001b[38;5;124mname\u001b[39m\u001b[38;5;124m\"\u001b[39m : \u001b[38;5;124m\"\u001b[39m\u001b[38;5;124mEggs\u001b[39m\u001b[38;5;124m\"\u001b[39m, \u001b[38;5;124m\"\u001b[39m\u001b[38;5;124mprice\u001b[39m\u001b[38;5;124m\"\u001b[39m : \u001b[38;5;241m34.99\u001b[39m, \u001b[38;5;124m\"\u001b[39m\u001b[38;5;124msomething else\u001b[39m\u001b[38;5;124m\"\u001b[39m: \u001b[38;5;28;01mFalse\u001b[39;00m}, schema\u001b[38;5;241m=\u001b[39mschema)\n\u001b[0;32m----> 2\u001b[0m \u001b[43mvalidate\u001b[49m\u001b[43m(\u001b[49m\n\u001b[1;32m      3\u001b[0m \u001b[43m    \u001b[49m\u001b[43minstance\u001b[49m\u001b[38;5;241;43m=\u001b[39;49m\u001b[43m{\u001b[49m\u001b[38;5;124;43m\"\u001b[39;49m\u001b[38;5;124;43mname\u001b[39;49m\u001b[38;5;124;43m\"\u001b[39;49m\u001b[43m \u001b[49m\u001b[43m:\u001b[49m\u001b[43m \u001b[49m\u001b[38;5;124;43m\"\u001b[39;49m\u001b[38;5;124;43mEggs\u001b[39;49m\u001b[38;5;124;43m\"\u001b[39;49m\u001b[43m,\u001b[49m\u001b[43m \u001b[49m\u001b[38;5;124;43m\"\u001b[39;49m\u001b[38;5;124;43mprice\u001b[39;49m\u001b[38;5;124;43m\"\u001b[39;49m\u001b[43m \u001b[49m\u001b[43m:\u001b[49m\u001b[43m \u001b[49m\u001b[38;5;124;43m\"\u001b[39;49m\u001b[38;5;124;43mInvalid\u001b[39;49m\u001b[38;5;124;43m\"\u001b[39;49m\u001b[43m}\u001b[49m\u001b[43m,\u001b[49m\u001b[43m \u001b[49m\u001b[43mschema\u001b[49m\u001b[38;5;241;43m=\u001b[39;49m\u001b[43mschema\u001b[49m\u001b[43m,\u001b[49m\n\u001b[1;32m      4\u001b[0m \u001b[43m)\u001b[49m\n",
      "File \u001b[0;32m~/miniconda3/envs/mfcode_docs/lib/python3.8/site-packages/jsonschema/validators.py:934\u001b[0m, in \u001b[0;36mvalidate\u001b[0;34m(instance, schema, cls, *args, **kwargs)\u001b[0m\n\u001b[1;32m    932\u001b[0m error \u001b[38;5;241m=\u001b[39m exceptions\u001b[38;5;241m.\u001b[39mbest_match(validator\u001b[38;5;241m.\u001b[39miter_errors(instance))\n\u001b[1;32m    933\u001b[0m \u001b[38;5;28;01mif\u001b[39;00m error \u001b[38;5;129;01mis\u001b[39;00m \u001b[38;5;129;01mnot\u001b[39;00m \u001b[38;5;28;01mNone\u001b[39;00m:\n\u001b[0;32m--> 934\u001b[0m     \u001b[38;5;28;01mraise\u001b[39;00m error\n",
      "\u001b[0;31mValidationError\u001b[0m: 'Invalid' is not of type 'number'\n\nFailed validating 'type' in schema['properties']['price']:\n    {'type': 'number'}\n\nOn instance['price']:\n    'Invalid'"
     ]
    }
   ],
   "source": [
    "validate(instance={\"name\" : \"Eggs\", \"price\" : 34.99, \"something else\": False}, schema=schema)\n",
    "validate(\n",
    "    instance={\"name\" : \"Eggs\", \"price\" : \"Invalid\"}, schema=schema,\n",
    ") "
   ]
  },
  {
   "cell_type": "code",
   "execution_count": null,
   "id": "19dea4b9-c4fe-4f3f-a53d-0ca4e9dc09cb",
   "metadata": {},
   "outputs": [],
   "source": []
  },
  {
   "cell_type": "code",
   "execution_count": 9,
   "id": "de31834d-4e5e-4836-9d22-c5eb4c78a757",
   "metadata": {},
   "outputs": [],
   "source": [
    "import typing\n",
    "from enum import Enum\n",
    "from pydantic import BaseModel, Field, conint, constr, validator\n",
    "from pydantic.color import Color\n",
    "from datetime import datetime, date\n",
    "import pathlib\n",
    "import pandas as pd\n",
    "from pathlib import PurePosixPath\n",
    "\n",
    "\n",
    "\n",
    "class Gender(str, Enum):\n",
    "    male = \"male\"\n",
    "    female = \"female\"\n",
    "    other = \"other\"\n",
    "    not_given = \"not_given\"\n",
    "\n",
    "\n",
    "class NestedObject(BaseModel):\n",
    "    string1: str = Field(default=\"adsf\", description=\"a description about my string\")\n",
    "    int_slider1: conint(ge=0, le=3) = 2\n",
    "    int_text1: int = 1\n",
    "    \n",
    "class TestObjectsAndArrays(BaseModel):\n",
    "    nested: NestedObject = Field(default=None)\n",
    "    array: typing.List[str] = Field(default=[], max_items=5)\n",
    "    objects_array: typing.List[NestedObject] = Field(default=[], max_items=5)\n",
    "    objects_array_styled: typing.List[NestedObject] = Field(\n",
    "        default=[], \n",
    "        max_items=5, \n",
    "        x_itemTitle=\"titleProp\", \n",
    "        x_options={\"arrayItemCardProps\": {\"outlined\": True}}\n",
    "    )"
   ]
  },
  {
   "cell_type": "code",
   "execution_count": 11,
   "id": "3889bbc7-6a95-4b02-9185-37403e52163a",
   "metadata": {},
   "outputs": [],
   "source": [
    "schema = TestObjectsAndArrays.schema()"
   ]
  },
  {
   "cell_type": "code",
   "execution_count": 12,
   "id": "56efa30a-6eae-463b-9bc5-d4812ccfcdcf",
   "metadata": {},
   "outputs": [
    {
     "data": {
      "text/plain": [
       "{'title': 'TestObjectsAndArrays',\n",
       " 'type': 'object',\n",
       " 'properties': {'nested': {'$ref': '#/definitions/NestedObject'},\n",
       "  'array': {'title': 'Array',\n",
       "   'default': [],\n",
       "   'maxItems': 5,\n",
       "   'type': 'array',\n",
       "   'items': {'type': 'string'}},\n",
       "  'objects_array': {'title': 'Objects Array',\n",
       "   'default': [],\n",
       "   'maxItems': 5,\n",
       "   'type': 'array',\n",
       "   'items': {'$ref': '#/definitions/NestedObject'}},\n",
       "  'objects_array_styled': {'title': 'Objects Array Styled',\n",
       "   'default': [],\n",
       "   'x_itemTitle': 'titleProp',\n",
       "   'x_options': {'arrayItemCardProps': {'outlined': True}},\n",
       "   'maxItems': 5,\n",
       "   'type': 'array',\n",
       "   'items': {'$ref': '#/definitions/NestedObject'}}},\n",
       " 'definitions': {'NestedObject': {'title': 'NestedObject',\n",
       "   'type': 'object',\n",
       "   'properties': {'string1': {'title': 'String1',\n",
       "     'description': 'a description about my string',\n",
       "     'default': 'adsf',\n",
       "     'type': 'string'},\n",
       "    'int_slider1': {'title': 'Int Slider1',\n",
       "     'default': 2,\n",
       "     'minimum': 0,\n",
       "     'maximum': 3,\n",
       "     'type': 'integer'},\n",
       "    'int_text1': {'title': 'Int Text1', 'default': 1, 'type': 'integer'}}}}}"
      ]
     },
     "execution_count": 12,
     "metadata": {},
     "output_type": "execute_result"
    }
   ],
   "source": [
    "schema"
   ]
  },
  {
   "cell_type": "code",
   "execution_count": 19,
   "id": "e8b14317-ef72-4e1f-916f-345d0b56f7bb",
   "metadata": {},
   "outputs": [
    {
     "ename": "AttributeError",
     "evalue": "'dict' object has no attribute 'decode'",
     "output_type": "error",
     "traceback": [
      "\u001b[0;31m---------------------------------------------------------------------------\u001b[0m",
      "\u001b[0;31mAttributeError\u001b[0m                            Traceback (most recent call last)",
      "Input \u001b[0;32mIn [19]\u001b[0m, in \u001b[0;36m<module>\u001b[0;34m\u001b[0m\n\u001b[1;32m      1\u001b[0m \u001b[38;5;28;01mfrom\u001b[39;00m \u001b[38;5;21;01mjsonschema\u001b[39;00m \u001b[38;5;28;01mimport\u001b[39;00m RefResolver\n\u001b[0;32m----> 2\u001b[0m \u001b[43mRefResolver\u001b[49m\u001b[43m(\u001b[49m\u001b[43mschema\u001b[49m\u001b[43m,\u001b[49m\u001b[43m \u001b[49m\u001b[43mschema\u001b[49m\u001b[43m)\u001b[49m\n",
      "File \u001b[0;32m~/miniconda3/envs/mfcode_docs/lib/python3.8/site-packages/jsonschema/validators.py:661\u001b[0m, in \u001b[0;36mRefResolver.__init__\u001b[0;34m(self, base_uri, referrer, store, cache_remote, handlers, urljoin_cache, remote_cache)\u001b[0m\n\u001b[1;32m    656\u001b[0m \u001b[38;5;28mself\u001b[39m\u001b[38;5;241m.\u001b[39mstore \u001b[38;5;241m=\u001b[39m _utils\u001b[38;5;241m.\u001b[39mURIDict(\n\u001b[1;32m    657\u001b[0m     (\u001b[38;5;28mid\u001b[39m, validator\u001b[38;5;241m.\u001b[39mMETA_SCHEMA)\n\u001b[1;32m    658\u001b[0m     \u001b[38;5;28;01mfor\u001b[39;00m \u001b[38;5;28mid\u001b[39m, validator \u001b[38;5;129;01min\u001b[39;00m iteritems(meta_schemas)\n\u001b[1;32m    659\u001b[0m )\n\u001b[1;32m    660\u001b[0m \u001b[38;5;28mself\u001b[39m\u001b[38;5;241m.\u001b[39mstore\u001b[38;5;241m.\u001b[39mupdate(store)\n\u001b[0;32m--> 661\u001b[0m \u001b[38;5;28mself\u001b[39m\u001b[38;5;241m.\u001b[39mstore[base_uri] \u001b[38;5;241m=\u001b[39m referrer\n\u001b[1;32m    663\u001b[0m \u001b[38;5;28mself\u001b[39m\u001b[38;5;241m.\u001b[39m_urljoin_cache \u001b[38;5;241m=\u001b[39m urljoin_cache\n\u001b[1;32m    664\u001b[0m \u001b[38;5;28mself\u001b[39m\u001b[38;5;241m.\u001b[39m_remote_cache \u001b[38;5;241m=\u001b[39m remote_cache\n",
      "File \u001b[0;32m~/miniconda3/envs/mfcode_docs/lib/python3.8/site-packages/jsonschema/_utils.py:25\u001b[0m, in \u001b[0;36mURIDict.__setitem__\u001b[0;34m(self, uri, value)\u001b[0m\n\u001b[1;32m     24\u001b[0m \u001b[38;5;28;01mdef\u001b[39;00m \u001b[38;5;21m__setitem__\u001b[39m(\u001b[38;5;28mself\u001b[39m, uri, value):\n\u001b[0;32m---> 25\u001b[0m     \u001b[38;5;28mself\u001b[39m\u001b[38;5;241m.\u001b[39mstore[\u001b[38;5;28;43mself\u001b[39;49m\u001b[38;5;241;43m.\u001b[39;49m\u001b[43mnormalize\u001b[49m\u001b[43m(\u001b[49m\u001b[43muri\u001b[49m\u001b[43m)\u001b[49m] \u001b[38;5;241m=\u001b[39m value\n",
      "File \u001b[0;32m~/miniconda3/envs/mfcode_docs/lib/python3.8/site-packages/jsonschema/_utils.py:15\u001b[0m, in \u001b[0;36mURIDict.normalize\u001b[0;34m(self, uri)\u001b[0m\n\u001b[1;32m     14\u001b[0m \u001b[38;5;28;01mdef\u001b[39;00m \u001b[38;5;21mnormalize\u001b[39m(\u001b[38;5;28mself\u001b[39m, uri):\n\u001b[0;32m---> 15\u001b[0m     \u001b[38;5;28;01mreturn\u001b[39;00m \u001b[43murlsplit\u001b[49m\u001b[43m(\u001b[49m\u001b[43muri\u001b[49m\u001b[43m)\u001b[49m\u001b[38;5;241m.\u001b[39mgeturl()\n",
      "File \u001b[0;32m~/miniconda3/envs/mfcode_docs/lib/python3.8/urllib/parse.py:431\u001b[0m, in \u001b[0;36murlsplit\u001b[0;34m(url, scheme, allow_fragments)\u001b[0m\n\u001b[1;32m    425\u001b[0m \u001b[38;5;28;01mdef\u001b[39;00m \u001b[38;5;21murlsplit\u001b[39m(url, scheme\u001b[38;5;241m=\u001b[39m\u001b[38;5;124m'\u001b[39m\u001b[38;5;124m'\u001b[39m, allow_fragments\u001b[38;5;241m=\u001b[39m\u001b[38;5;28;01mTrue\u001b[39;00m):\n\u001b[1;32m    426\u001b[0m     \u001b[38;5;124;03m\"\"\"Parse a URL into 5 components:\u001b[39;00m\n\u001b[1;32m    427\u001b[0m \u001b[38;5;124;03m    <scheme>://<netloc>/<path>?<query>#<fragment>\u001b[39;00m\n\u001b[1;32m    428\u001b[0m \u001b[38;5;124;03m    Return a 5-tuple: (scheme, netloc, path, query, fragment).\u001b[39;00m\n\u001b[1;32m    429\u001b[0m \u001b[38;5;124;03m    Note that we don't break the components up in smaller bits\u001b[39;00m\n\u001b[1;32m    430\u001b[0m \u001b[38;5;124;03m    (e.g. netloc is a single string) and we don't expand % escapes.\"\"\"\u001b[39;00m\n\u001b[0;32m--> 431\u001b[0m     url, scheme, _coerce_result \u001b[38;5;241m=\u001b[39m \u001b[43m_coerce_args\u001b[49m\u001b[43m(\u001b[49m\u001b[43murl\u001b[49m\u001b[43m,\u001b[49m\u001b[43m \u001b[49m\u001b[43mscheme\u001b[49m\u001b[43m)\u001b[49m\n\u001b[1;32m    432\u001b[0m     url \u001b[38;5;241m=\u001b[39m _remove_unsafe_bytes_from_url(url)\n\u001b[1;32m    433\u001b[0m     scheme \u001b[38;5;241m=\u001b[39m _remove_unsafe_bytes_from_url(scheme)\n",
      "File \u001b[0;32m~/miniconda3/envs/mfcode_docs/lib/python3.8/urllib/parse.py:127\u001b[0m, in \u001b[0;36m_coerce_args\u001b[0;34m(*args)\u001b[0m\n\u001b[1;32m    125\u001b[0m \u001b[38;5;28;01mif\u001b[39;00m str_input:\n\u001b[1;32m    126\u001b[0m     \u001b[38;5;28;01mreturn\u001b[39;00m args \u001b[38;5;241m+\u001b[39m (_noop,)\n\u001b[0;32m--> 127\u001b[0m \u001b[38;5;28;01mreturn\u001b[39;00m \u001b[43m_decode_args\u001b[49m\u001b[43m(\u001b[49m\u001b[43margs\u001b[49m\u001b[43m)\u001b[49m \u001b[38;5;241m+\u001b[39m (_encode_result,)\n",
      "File \u001b[0;32m~/miniconda3/envs/mfcode_docs/lib/python3.8/urllib/parse.py:111\u001b[0m, in \u001b[0;36m_decode_args\u001b[0;34m(args, encoding, errors)\u001b[0m\n\u001b[1;32m    109\u001b[0m \u001b[38;5;28;01mdef\u001b[39;00m \u001b[38;5;21m_decode_args\u001b[39m(args, encoding\u001b[38;5;241m=\u001b[39m_implicit_encoding,\n\u001b[1;32m    110\u001b[0m                        errors\u001b[38;5;241m=\u001b[39m_implicit_errors):\n\u001b[0;32m--> 111\u001b[0m     \u001b[38;5;28;01mreturn\u001b[39;00m \u001b[38;5;28;43mtuple\u001b[39;49m\u001b[43m(\u001b[49m\u001b[43mx\u001b[49m\u001b[38;5;241;43m.\u001b[39;49m\u001b[43mdecode\u001b[49m\u001b[43m(\u001b[49m\u001b[43mencoding\u001b[49m\u001b[43m,\u001b[49m\u001b[43m \u001b[49m\u001b[43merrors\u001b[49m\u001b[43m)\u001b[49m\u001b[43m \u001b[49m\u001b[38;5;28;43;01mif\u001b[39;49;00m\u001b[43m \u001b[49m\u001b[43mx\u001b[49m\u001b[43m \u001b[49m\u001b[38;5;28;43;01melse\u001b[39;49;00m\u001b[43m \u001b[49m\u001b[38;5;124;43m'\u001b[39;49m\u001b[38;5;124;43m'\u001b[39;49m\u001b[43m \u001b[49m\u001b[38;5;28;43;01mfor\u001b[39;49;00m\u001b[43m \u001b[49m\u001b[43mx\u001b[49m\u001b[43m \u001b[49m\u001b[38;5;129;43;01min\u001b[39;49;00m\u001b[43m \u001b[49m\u001b[43margs\u001b[49m\u001b[43m)\u001b[49m\n",
      "File \u001b[0;32m~/miniconda3/envs/mfcode_docs/lib/python3.8/urllib/parse.py:111\u001b[0m, in \u001b[0;36m<genexpr>\u001b[0;34m(.0)\u001b[0m\n\u001b[1;32m    109\u001b[0m \u001b[38;5;28;01mdef\u001b[39;00m \u001b[38;5;21m_decode_args\u001b[39m(args, encoding\u001b[38;5;241m=\u001b[39m_implicit_encoding,\n\u001b[1;32m    110\u001b[0m                        errors\u001b[38;5;241m=\u001b[39m_implicit_errors):\n\u001b[0;32m--> 111\u001b[0m     \u001b[38;5;28;01mreturn\u001b[39;00m \u001b[38;5;28mtuple\u001b[39m(\u001b[43mx\u001b[49m\u001b[38;5;241;43m.\u001b[39;49m\u001b[43mdecode\u001b[49m(encoding, errors) \u001b[38;5;28;01mif\u001b[39;00m x \u001b[38;5;28;01melse\u001b[39;00m \u001b[38;5;124m'\u001b[39m\u001b[38;5;124m'\u001b[39m \u001b[38;5;28;01mfor\u001b[39;00m x \u001b[38;5;129;01min\u001b[39;00m args)\n",
      "\u001b[0;31mAttributeError\u001b[0m: 'dict' object has no attribute 'decode'"
     ]
    }
   ],
   "source": [
    "from jsonschema import RefResolver\n",
    "RefResolver(schema, schema)"
   ]
  },
  {
   "cell_type": "code",
   "execution_count": null,
   "id": "e28307f6-6e16-45f1-ac42-98e015f22384",
   "metadata": {},
   "outputs": [],
   "source": []
  }
 ],
 "metadata": {
  "kernelspec": {
   "display_name": "Python 3 (ipykernel)",
   "language": "python",
   "name": "python3"
  },
  "language_info": {
   "codemirror_mode": {
    "name": "ipython",
    "version": 3
   },
   "file_extension": ".py",
   "mimetype": "text/x-python",
   "name": "python",
   "nbconvert_exporter": "python",
   "pygments_lexer": "ipython3",
   "version": "3.8.12"
  }
 },
 "nbformat": 4,
 "nbformat_minor": 5
}
