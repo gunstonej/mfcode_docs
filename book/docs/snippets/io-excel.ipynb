{
 "cells": [
  {
   "cell_type": "code",
   "execution_count": null,
   "id": "324b499c-7ba9-4d2d-afa3-d38f6eb2b051",
   "metadata": {},
   "outputs": [],
   "source": [
    "import pandas as pd\n",
    "import pathlib\n",
    "from xlsxtemplater import to_excel, from_excel"
   ]
  },
  {
   "cell_type": "code",
   "execution_count": null,
   "id": "8b91a819-53f4-41ac-9c8a-2c6a34a07ff8",
   "metadata": {},
   "outputs": [],
   "source": [
    "# pandas\n",
    "# ... has built in read/write functions\n",
    "\n",
    "path = pathlib.Path('test.xlsx')\n",
    "df = pd.DataFrame({'col0': [0,1,2], 'col1': [1,2,3]})\n",
    "\n",
    "df.to_excel(fpth)  \n",
    "pd.read_excel(path)"
   ]
  },
  {
   "cell_type": "code",
   "execution_count": 12,
   "id": "579624e8-1b2a-41d2-baef-625088cf0d74",
   "metadata": {},
   "outputs": [
    {
     "data": {
      "text/plain": [
       "'test-xt-out.xlsx'"
      ]
     },
     "execution_count": 12,
     "metadata": {},
     "output_type": "execute_result"
    }
   ],
   "source": [
    "# xlsxtemplater\n",
    "# ... allows you to write many tables to excel\n",
    "# and formats the data to excel as tables for easy review \n",
    "# ?to_excel\n",
    "\n",
    "li = [\n",
    "    {'df': df, 'sheet_name': 'mySheet'}, \n",
    "    {'df': df, 'sheet_name': 'myOtherSheet', 'notes': {'test-note':'a test dataframe note'}}, \n",
    "]\n",
    "to_excel(li, 'test.xt.xlsx')"
   ]
  },
  {
   "cell_type": "code",
   "execution_count": 3,
   "id": "e78de65e-26f2-48f5-a0db-b0d246ecb010",
   "metadata": {},
   "outputs": [
    {
     "data": {
      "text/plain": [
       "[{'sheet_name': 'mySheet',\n",
       "  'xlsx_params': \"<class 'xlsxtemplater.templaterdefs.XlsxTable'>\",\n",
       "  'xlsx_exporter': '<function df_to_sheet_table at 0x7efc30b1b670>',\n",
       "  'JobNo': 'J4321',\n",
       "  'Date': 20221007,\n",
       "  'Author': 'jovyan',\n",
       "  'test-note': nan,\n",
       "  'df':    col0  col1\n",
       "  0     0     1\n",
       "  1     1     2\n",
       "  2     2     3},\n",
       " {'sheet_name': 'myOtherSheet',\n",
       "  'xlsx_params': \"<class 'xlsxtemplater.templaterdefs.XlsxTable'>\",\n",
       "  'xlsx_exporter': '<function df_to_sheet_table at 0x7efc30b1b670>',\n",
       "  'JobNo': 'J4321',\n",
       "  'Date': 20221007,\n",
       "  'Author': 'jovyan',\n",
       "  'test-note': 'a test dataframe note',\n",
       "  'df':    col0  col1\n",
       "  0     0     1\n",
       "  1     1     2\n",
       "  2     2     3}]"
      ]
     },
     "execution_count": 3,
     "metadata": {},
     "output_type": "execute_result"
    }
   ],
   "source": [
    "from_excel('test.xt.xlsx')"
   ]
  },
  {
   "cell_type": "code",
   "execution_count": null,
   "id": "7fcb6f2e-5cbc-4a0c-9dc5-71dceded3588",
   "metadata": {},
   "outputs": [],
   "source": []
  }
 ],
 "metadata": {
  "jupytext": {
   "formats": "ipynb,py"
  },
  "kernelspec": {
   "display_name": "Python 3 (ipykernel)",
   "language": "python",
   "name": "python3"
  },
  "language_info": {
   "codemirror_mode": {
    "name": "ipython",
    "version": 3
   },
   "file_extension": ".py",
   "mimetype": "text/x-python",
   "name": "python",
   "nbconvert_exporter": "python",
   "pygments_lexer": "ipython3",
   "version": "3.8.12"
  }
 },
 "nbformat": 4,
 "nbformat_minor": 5
}
