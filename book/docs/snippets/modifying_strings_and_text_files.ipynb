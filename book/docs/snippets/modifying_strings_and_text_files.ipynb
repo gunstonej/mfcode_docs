{
 "cells": [
  {
   "cell_type": "markdown",
   "id": "541e3e3d-0c91-4404-a89f-cb256d7a1a81",
   "metadata": {},
   "source": [
    "# Modify a text file"
   ]
  },
  {
   "cell_type": "code",
   "execution_count": 3,
   "id": "02aad988",
   "metadata": {},
   "outputs": [],
   "source": [
    "s =\"\"\"# PropertySet\n",
    "\n",
    "## Properties\n",
    "\n",
    "- **`Name`** *(string)*: Name of the PropertySet.\n",
    "- **`Definition`** *(string)*: Definition of the PropertySet. Default: ``.\n",
    "  \n",
    "## Definitions\n",
    "\n",
    "- **`UseTypeEnum`** *(string)*: An enumeration. Must be one of: `['Room Data Template', 'Product Data Template', 'IFC Property Set', 'Max Fordham Property Set', 'Undefined']`.\n",
    "- **`StatusEnum`** *(string)*: An enumeration. Must be one of: `['Active', 'Inactive']`.\n",
    "\"\"\"\n",
    "# import pathlib\n",
    "# lines = pathlib.Path('eg.txt').read_text().split('\\n')\n",
    "#  ^ if reading text from file"
   ]
  },
  {
   "cell_type": "code",
   "execution_count": 4,
   "id": "5540d035",
   "metadata": {},
   "outputs": [
    {
     "data": {
      "text/plain": [
       "['- **`Name`** *(string)*: Name of the PropertySet.',\n",
       " '- **`Definition`** *(string)*: Definition of the PropertySet. Default: ``.']"
      ]
     },
     "execution_count": 4,
     "metadata": {},
     "output_type": "execute_result"
    }
   ],
   "source": [
    "lines = s.split('\\n')\n",
    "lines = lines[0:lines.index('## Definitions')]  # remove definitions onwards\n",
    "lines = [l for l in lines if \"#\" not in l]  # remove titles\n",
    "lines = [l for l in lines if l != ''] # remove blank lines\n",
    "lines = [l for l in lines if l.replace(' ', '') != '']  # remove strings \n",
    "lines"
   ]
  },
  {
   "cell_type": "code",
   "execution_count": null,
   "id": "9f5385e2-8658-4ae8-b8bd-e63009f1eeb6",
   "metadata": {},
   "outputs": [],
   "source": []
  }
 ],
 "metadata": {
  "jupytext": {
   "cell_metadata_filter": "-all",
   "formats": "ipynb,py:light",
   "main_language": "python"
  },
  "kernelspec": {
   "display_name": "Python 3 (ipykernel)",
   "language": "python",
   "name": "python3"
  },
  "language_info": {
   "codemirror_mode": {
    "name": "ipython",
    "version": 3
   },
   "file_extension": ".py",
   "mimetype": "text/x-python",
   "name": "python",
   "nbconvert_exporter": "python",
   "pygments_lexer": "ipython3",
   "version": "3.8.12"
  }
 },
 "nbformat": 4,
 "nbformat_minor": 5
}
