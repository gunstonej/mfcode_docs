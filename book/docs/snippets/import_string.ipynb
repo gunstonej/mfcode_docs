{
 "cells": [
  {
   "cell_type": "markdown",
   "id": "a69ce5b9",
   "metadata": {},
   "source": [
    "# import strings \n",
    "\n",
    "the functions defined below can be used to define the import location of a python object as a string.  \n",
    "this could be useful to define within a json file, for example, what python object to use to render some json data. (ipyrun and ipyautoui use this functionality.)\n",
    "\n",
    "__note.__ \n",
    "\n",
    "- when using `functool.partial`, the callable object doesn't have a `__name__` attribute so the `obj_to_importstr` method below won't work. \n",
    "    - you can use the `functools.wraps` decorator instead\n",
    "- lambda functions have the generic `__name__ == '<lambda>'`\n",
    "    - the `__name__` of a lambda function can be explicitly defined\n",
    "-"
   ]
  },
  {
   "cell_type": "code",
   "execution_count": null,
   "id": "3ceb9bbe",
   "metadata": {},
   "outputs": [],
   "source": [
    "import importlib.util\n",
    "import typing\n",
    "\n",
    "def obj_to_importstr(obj: typing.Callable):\n",
    "    \"\"\"\n",
    "    given a callable callable object this will return the \n",
    "    import string to. From the string the object can be \n",
    "    initiated again using importlib. This is useful for \n",
    "    defining a function or class in a json serializable manner\n",
    "    \n",
    "    Args:\n",
    "        obj: typing.Callable\n",
    "    Returns: \n",
    "        str: import string\n",
    "        \n",
    "    Example:\n",
    "        >>> obj_from_importstr(pathlib.Path)\n",
    "        'pathlib.Path'\n",
    "    \"\"\"\n",
    "    try:\n",
    "        mod = obj.__module__\n",
    "    except:\n",
    "        raise ValueError(f'{str(obj)} doesnt have a __module__ attribute.')\n",
    "    try: \n",
    "        nm = obj.__name__\n",
    "    except:\n",
    "        raise ValueError(f'{str(obj)} doesnt have a __name__ attribute. (might be a functool.partial?)')\n",
    "\n",
    "    return mod +'.'+ nm\n",
    "\n",
    "def obj_from_importstr(importstr: str) -> typing.Type:\n",
    "    \"\"\"\n",
    "    given the import string of an object this function and returns the Obj. \n",
    "    \n",
    "    makes it easy to define class used as a string in a json\n",
    "    object and then use this class to re-initite it.\n",
    "    \n",
    "    Args:\n",
    "        import_string: == obj.__module__ + '.' + obj.__name__\n",
    "    Returns: \n",
    "        obj\n",
    "        \n",
    "    Example:\n",
    "        >>> obj_from_importstr('pathlib.Path')\n",
    "        pathlib.Path\n",
    "    \"\"\"\n",
    "    mod, nm = importstr.rsplit('.', 1)\n",
    "\n",
    "    return getattr(importlib.import_module(mod), nm)"
   ]
  },
  {
   "cell_type": "code",
   "execution_count": null,
   "id": "312c81d5",
   "metadata": {},
   "outputs": [],
   "source": [
    "# eg\n",
    "obj_from_importstr('pathlib.Path')"
   ]
  }
 ],
 "metadata": {
  "jupytext": {
   "cell_metadata_filter": "-all",
   "formats": "ipynb,py:light",
   "main_language": "python"
  },
  "kernelspec": {
   "display_name": "Python 3 (ipykernel)",
   "language": "python",
   "name": "python3"
  },
  "language_info": {
   "codemirror_mode": {
    "name": "ipython",
    "version": 3
   },
   "file_extension": ".py",
   "mimetype": "text/x-python",
   "name": "python",
   "nbconvert_exporter": "python",
   "pygments_lexer": "ipython3",
   "version": "3.8.12"
  }
 },
 "nbformat": 4,
 "nbformat_minor": 5
}
