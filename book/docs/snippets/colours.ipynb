{
 "cells": [
  {
   "cell_type": "markdown",
   "id": "3c791ddf",
   "metadata": {},
   "source": [
    "# Colors\n",
    "\n",
    "the simplest / cleanest way of accessing colour pallettes is to use Palletable\n",
    "view pallete's here: [finding-palettes](https://jiffyclub.github.io/palettable/#finding-palettes)"
   ]
  },
  {
   "cell_type": "code",
   "execution_count": 4,
   "id": "9885623a",
   "metadata": {
    "lines_to_next_cell": 1
   },
   "outputs": [],
   "source": [
    "import ipywidgets as widgets\n",
    "from palettable import tableau, "
   ]
  },
  {
   "cell_type": "code",
   "execution_count": 7,
   "id": "74b0e7b0",
   "metadata": {
    "lines_to_next_cell": 1
   },
   "outputs": [],
   "source": [
    "def plot_color_list(li_colors):\n",
    "    return widgets.VBox(\n",
    "        [widgets.ColorPicker( value=color) for color in li_colors] #concise=True,\n",
    "    )"
   ]
  },
  {
   "cell_type": "code",
   "execution_count": 8,
   "id": "f16b6697",
   "metadata": {},
   "outputs": [
    {
     "data": {
      "application/vnd.jupyter.widget-view+json": {
       "model_id": "3602855e34454e6b8aef235a08acd287",
       "version_major": 2,
       "version_minor": 0
      },
      "text/plain": [
       "VBox(children=(ColorPicker(value='#1F77B4'), ColorPicker(value='#FF7F0E'), ColorPicker(value='#2CA02C'), Color…"
      ]
     },
     "metadata": {},
     "output_type": "display_data"
    }
   ],
   "source": [
    "plot_color_list(tableau.Tableau_10.hex_colors)"
   ]
  },
  {
   "cell_type": "code",
   "execution_count": null,
   "id": "1fe01a0e-67e1-44e2-bd89-9a1380732160",
   "metadata": {},
   "outputs": [],
   "source": []
  }
 ],
 "metadata": {
  "jupytext": {
   "cell_metadata_filter": "-all",
   "formats": "ipynb,py:light"
  },
  "kernelspec": {
   "display_name": "Python 3 (ipykernel)",
   "language": "python",
   "name": "python3"
  },
  "language_info": {
   "codemirror_mode": {
    "name": "ipython",
    "version": 3
   },
   "file_extension": ".py",
   "mimetype": "text/x-python",
   "name": "python",
   "nbconvert_exporter": "python",
   "pygments_lexer": "ipython3",
   "version": "3.8.12"
  }
 },
 "nbformat": 4,
 "nbformat_minor": 5
}
