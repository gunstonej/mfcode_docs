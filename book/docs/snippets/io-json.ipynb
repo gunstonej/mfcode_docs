{
 "cells": [
  {
   "cell_type": "code",
   "execution_count": 7,
   "id": "42e47a85-0ab8-435e-b5f6-51477e042db5",
   "metadata": {},
   "outputs": [
    {
     "data": {
      "text/plain": [
       "118"
      ]
     },
     "execution_count": 7,
     "metadata": {},
     "output_type": "execute_result"
    }
   ],
   "source": [
    "# write json\n",
    "import pathlib\n",
    "import json\n",
    "\n",
    "di = {\n",
    "    \"string\": \"adsf\",\n",
    "    \"int_slider\": 2,\n",
    "    \"int_text\": 1,\n",
    "    \"int_range_slider\": [\n",
    "        0,\n",
    "        3\n",
    "    ]\n",
    "}\n",
    "path = pathlib.Path('test.json')\n",
    "path.write_text(json.dumps(di, indent=4))"
   ]
  },
  {
   "cell_type": "code",
   "execution_count": 8,
   "id": "99b55f16-e18b-4a79-8a87-5e7629ca98a8",
   "metadata": {},
   "outputs": [
    {
     "data": {
      "text/plain": [
       "{'string': 'adsf', 'int_slider': 2, 'int_text': 1, 'int_range_slider': [0, 3]}"
      ]
     },
     "execution_count": 8,
     "metadata": {},
     "output_type": "execute_result"
    }
   ],
   "source": [
    "# read json\n",
    "json.loads(path.read_text())"
   ]
  },
  {
   "cell_type": "code",
   "execution_count": null,
   "id": "ca00073c-954c-46e8-8a7e-8561d7ec46f8",
   "metadata": {},
   "outputs": [],
   "source": []
  }
 ],
 "metadata": {
  "jupytext": {
   "formats": "ipynb,py"
  },
  "kernelspec": {
   "display_name": "Python 3 (ipykernel)",
   "language": "python",
   "name": "python3"
  },
  "language_info": {
   "codemirror_mode": {
    "name": "ipython",
    "version": 3
   },
   "file_extension": ".py",
   "mimetype": "text/x-python",
   "name": "python",
   "nbconvert_exporter": "python",
   "pygments_lexer": "ipython3",
   "version": "3.8.12"
  }
 },
 "nbformat": 4,
 "nbformat_minor": 5
}
