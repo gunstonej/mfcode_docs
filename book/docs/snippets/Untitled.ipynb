{
 "cells": [
  {
   "cell_type": "code",
   "execution_count": 16,
   "id": "d21f7ebe-45fe-46ae-907e-b1360d8dd7c1",
   "metadata": {},
   "outputs": [
    {
     "data": {
      "text/plain": [
       "['- **`Name`** *(string)*: Name of the PropertySet.',\n",
       " '- **`Definition`** *(string)*: Definition of the PropertySet. Default: ``.']"
      ]
     },
     "execution_count": 16,
     "metadata": {},
     "output_type": "execute_result"
    }
   ],
   "source": [
    "s =\"\"\"# PropertySet\n",
    "\n",
    "## Properties\n",
    "\n",
    "- **`Name`** *(string)*: Name of the PropertySet.\n",
    "- **`Definition`** *(string)*: Definition of the PropertySet. Default: ``.\n",
    "  \n",
    "## Definitions\n",
    "\n",
    "- **`UseTypeEnum`** *(string)*: An enumeration. Must be one of: `['Room Data Template', 'Product Data Template', 'IFC Property Set', 'Max Fordham Property Set', 'Undefined']`.\n",
    "- **`StatusEnum`** *(string)*: An enumeration. Must be one of: `['Active', 'Inactive']`.\n",
    "\"\"\"\n",
    "# import pathlib\n",
    "# lines = pathlib.Path('eg.txt').read_text().split('\\n')\n",
    "#  ^ if reading text from file\n",
    "\n",
    "lines = s.split('\\n')\n",
    "n = lines.index('## Definitions')\n",
    "lines = lines[0:n]  # remove definitions\n",
    "lines = [l for l in lines if \"#\" not in l]  # remove titles\n",
    "lines = [l for l in lines if l != ''] # remove blank lines\n",
    "lines = [l for l in lines if l.replace(' ', '') != '']  # remove strings \n",
    "lines"
   ]
  },
  {
   "cell_type": "code",
   "execution_count": null,
   "id": "55fb079d-30cf-4015-9305-85e7c1c0133b",
   "metadata": {},
   "outputs": [],
   "source": []
  }
 ],
 "metadata": {
  "kernelspec": {
   "display_name": "Python [conda env:ipyautoui-dev]",
   "language": "python",
   "name": "conda-env-ipyautoui-dev-xpython"
  },
  "language_info": {
   "file_extension": ".py",
   "mimetype": "text/x-python",
   "name": "python",
   "version": "3.9.13"
  }
 },
 "nbformat": 4,
 "nbformat_minor": 5
}
