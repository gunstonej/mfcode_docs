{
 "cells": [
  {
   "cell_type": "markdown",
   "id": "99c1979a",
   "metadata": {},
   "source": [
    "# Numpy"
   ]
  },
  {
   "cell_type": "code",
   "execution_count": null,
   "id": "b7e1f15e",
   "metadata": {},
   "outputs": [],
   "source": [
    "import numpy as np"
   ]
  },
  {
   "cell_type": "markdown",
   "id": "f5f8538a",
   "metadata": {},
   "source": [
    "## vectorisation"
   ]
  },
  {
   "cell_type": "code",
   "execution_count": null,
   "id": "44599571",
   "metadata": {},
   "outputs": [],
   "source": [
    "import functools as ft\n",
    "a = np.array([[1, 2, 3, 4], [5, 6, 7, 8], [9, 10, 11, 12]])\n",
    "\n",
    "def f(x, y=1):\n",
    "    # return x ** y\n",
    "    return x ** y\n",
    "\n",
    "vf = np.vectorize(f)\n",
    "vf(a, y=2)"
   ]
  },
  {
   "cell_type": "markdown",
   "id": "dbbed82b",
   "metadata": {},
   "source": [
    "### array methods\n",
    "\n"
   ]
  },
  {
   "cell_type": "code",
   "execution_count": null,
   "id": "4f05507b",
   "metadata": {},
   "outputs": [],
   "source": [
    "import numpy as np\n",
    "import functools as ft\n",
    "a = np.array([[1, 2, 3, 4], [5, 6, 7, 8], [9, 10, 11, 12]])\n",
    "\n",
    "def f(x, y):\n",
    "    return x * y\n",
    "\n",
    "y = np.array([2, 2, 2, 2])\n",
    "y = 2\n",
    "vf = np.vectorize(f)\n",
    "vf(a, y=y)\n",
    "\n",
    "#a * y"
   ]
  },
  {
   "cell_type": "markdown",
   "id": "a9f416e8",
   "metadata": {},
   "source": [
    "### Working with 3 dimensional arrays"
   ]
  },
  {
   "cell_type": "markdown",
   "id": "4003a834",
   "metadata": {},
   "source": [
    "Mulitplying a and b together (f function) will return the same shape array.\n"
   ]
  },
  {
   "cell_type": "code",
   "execution_count": null,
   "id": "f95c07aa",
   "metadata": {},
   "outputs": [],
   "source": [
    "a = np.ones([1, 2, 2])\n",
    "b = np.ones([1, 2, 2]) \n",
    "c = np.ones([2, 1, 1])\n",
    "\n",
    "out = f(a, b)\n",
    "print(f\"Multiping arrays a and b gives the same shape: {out.shape}\")\n",
    "print(out)\n",
    "\n",
    "out = f(a, c)\n",
    "print(f\"Multiping arrays a and c gives: {out.shape}\")\n",
    "print(out)"
   ]
  },
  {
   "cell_type": "code",
   "execution_count": null,
   "id": "bc5c275b",
   "metadata": {},
   "outputs": [],
   "source": [
    "a.shape"
   ]
  },
  {
   "cell_type": "code",
   "execution_count": null,
   "id": "355a607c",
   "metadata": {
    "lines_to_next_cell": 2
   },
   "outputs": [],
   "source": []
  }
 ],
 "metadata": {
  "jupytext": {
   "formats": "ipynb,py"
  },
  "kernelspec": {
   "display_name": "Python 3 (ipykernel)",
   "language": "python",
   "name": "python3"
  },
  "language_info": {
   "codemirror_mode": {
    "name": "ipython",
    "version": 3
   },
   "file_extension": ".py",
   "mimetype": "text/x-python",
   "name": "python",
   "nbconvert_exporter": "python",
   "pygments_lexer": "ipython3",
   "version": "3.8.12"
  }
 },
 "nbformat": 4,
 "nbformat_minor": 5
}
