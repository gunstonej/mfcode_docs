{
 "cells": [
  {
   "cell_type": "markdown",
   "id": "18c969fd-3aa9-4cdb-a79d-3588bc20a4fc",
   "metadata": {},
   "source": [
    "# [honeybee-energy schedules](https://www.ladybug.tools/honeybee-energy/docs/honeybee_energy.schedule.html)"
   ]
  },
  {
   "cell_type": "code",
   "execution_count": 1,
   "id": "9a1ea87b-47c7-48e2-b1fd-ca7766dc3676",
   "metadata": {},
   "outputs": [],
   "source": [
    "\"\"\"\n",
    "make usage schedules from honeybee_energy\n",
    "\n",
    "Reference:\n",
    "    https://www.ladybug.tools/honeybee-energy/docs/honeybee_energy.schedule.html\n",
    "\"\"\"\n",
    "\n",
    "from honeybee_energy.schedule.typelimit import ScheduleTypeLimit\n",
    "from honeybee_energy.schedule.day import ScheduleDay\n",
    "from honeybee_energy.schedule.rule import ScheduleRule\n",
    "from honeybee_energy.schedule.ruleset import ScheduleRuleset"
   ]
  },
  {
   "cell_type": "code",
   "execution_count": 33,
   "id": "e002109e-d231-4406-aa60-9b26a9d9cff8",
   "metadata": {},
   "outputs": [
    {
     "data": {
      "text/plain": [
       "{'type': 'ScheduleDay',\n",
       " 'identifier': 'Office_Occ_900_1700',\n",
       " 'values': (0.0, 1.0, 0.0),\n",
       " 'times': [(0, 0), (9, 0), (17, 0)],\n",
       " 'interpolate': False,\n",
       " 'display_name': 'Office Occupancy'}"
      ]
     },
     "execution_count": 33,
     "metadata": {},
     "output_type": "execute_result"
    }
   ],
   "source": [
    "di_day = {\n",
    "\"type\": 'ScheduleDay',\n",
    "\"identifier\": 'Office_Occ_900_1700',\n",
    "\"display_name\": 'Office Occupancy',\n",
    "\"values\": [0, 1, 0],\n",
    "\"times\": [(0, 0), (9, 0), (17, 0)],\n",
    "\"interpolate\": False\n",
    "}\n",
    "day = ScheduleDay.from_dict(di_day)\n",
    "day.to_dict()"
   ]
  },
  {
   "cell_type": "code",
   "execution_count": 34,
   "id": "15d67538-bc20-40de-9df2-ce97ae10e304",
   "metadata": {},
   "outputs": [],
   "source": [
    "di_rule = {\n",
    "    \"type\": 'ScheduleRule',\n",
    "    \"schedule_day\": day.to_dict(),\n",
    "    \"apply_sunday\": False,\n",
    "    \"apply_monday\": True,\n",
    "    \"apply_tuesday\": True,\n",
    "    \"apply_wednesday\": True,\n",
    "    \"apply_thursday\": True,\n",
    "    \"apply_friday\": True,\n",
    "    \"apply_saturday\": False,\n",
    "    \"start_date\": (1, 1),\n",
    "    \"end_date\": (12, 31)\n",
    "}\n",
    "\n",
    "s = ScheduleRule.from_dict(di_rule)"
   ]
  },
  {
   "cell_type": "code",
   "execution_count": 56,
   "id": "82dd1204-6c0d-467a-bfac-b850b2c1ee02",
   "metadata": {},
   "outputs": [
    {
     "data": {
      "text/plain": [
       "{'type': 'ScheduleTypeLimit',\n",
       " 'identifier': 'Fractional',\n",
       " 'lower_limit': 0.0,\n",
       " 'upper_limit': 1.0,\n",
       " 'numeric_type': 'Discrete',\n",
       " 'unit_type': 'Dimensionless',\n",
       " 'display_name': 'Fractional'}"
      ]
     },
     "execution_count": 56,
     "metadata": {},
     "output_type": "execute_result"
    }
   ],
   "source": [
    "di_tl = {\n",
    "    \"type\": 'ScheduleTypeLimit',\n",
    "    \"identifier\": 'Fractional',\n",
    "    \"display_name\": 'Fractional',\n",
    "    \"lower_limit\": 0,\n",
    "    \"upper_limit\": 1,\n",
    "    \"numeric_type\": \"Discrete\",\n",
    "    \"unit_type\": \"Dimensionless\",\n",
    "}\n",
    "stl = ScheduleTypeLimit.from_dict(di_tl)\n",
    "stl.to_dict()"
   ]
  },
  {
   "cell_type": "code",
   "execution_count": 62,
   "id": "07620f95-e669-4057-b910-45cb7ac10c92",
   "metadata": {},
   "outputs": [
    {
     "data": {
      "text/plain": [
       "Hourly Continuous Data Collection\n",
       "1/1 to 12/31 between 0 and 23 @1\n",
       "Fraction (fraction)\n",
       "...8760 values..."
      ]
     },
     "execution_count": 62,
     "metadata": {},
     "output_type": "execute_result"
    }
   ],
   "source": [
    "di_ruleset = {\n",
    "\"type\": 'ScheduleRuleset',\n",
    "\"identifier\": 'Office_Occ_900_1700_weekends',\n",
    "\"display_name\": 'Office Occupancy',\n",
    "\"day_schedules\": [day.to_dict()], # Array of ScheduleDay dictionary representations\n",
    "\"default_day_schedule\": \"Office_Occ_900_1700\", # ScheduleDay identifier\n",
    "\"schedule_rules\": [s.to_dict(abridged=True)], # list of ScheduleRuleAbridged dictionaries\n",
    "\"schedule_type_limit\": stl.to_dict(), # ScheduleTypeLimit dictionary representation\n",
    "\"holiday_schedule\": \"Office_Occ_900_1700\", # ScheduleDay identifier\n",
    "\"summer_designday_schedule\": \"Office_Occ_900_1700\", # ScheduleDay identifier\n",
    "\"winter_designday_schedule\": \"Office_Occ_900_1700\" # ScheduleDay identifier\n",
    "}\n",
    "ss = ScheduleRuleset.from_dict(di_ruleset)\n",
    "ss.data_collection()"
   ]
  },
  {
   "cell_type": "code",
   "execution_count": 64,
   "id": "60ebffcf-08b8-4951-9c58-8d49825b4663",
   "metadata": {},
   "outputs": [
    {
     "data": {
      "text/plain": [
       "list"
      ]
     },
     "execution_count": 65,
     "metadata": {},
     "output_type": "execute_result"
    }
   ],
   "source": [
    "ss.values()"
   ]
  },
  {
   "cell_type": "code",
   "execution_count": null,
   "id": "e36b43ff-fe79-430e-b5a6-972b59ac09ba",
   "metadata": {},
   "outputs": [],
   "source": []
  }
 ],
 "metadata": {
  "kernelspec": {
   "display_name": "Python 3 (ipykernel)",
   "language": "python",
   "name": "python3"
  },
  "language_info": {
   "codemirror_mode": {
    "name": "ipython",
    "version": 3
   },
   "file_extension": ".py",
   "mimetype": "text/x-python",
   "name": "python",
   "nbconvert_exporter": "python",
   "pygments_lexer": "ipython3",
   "version": "3.8.12"
  }
 },
 "nbformat": 4,
 "nbformat_minor": 5
}
