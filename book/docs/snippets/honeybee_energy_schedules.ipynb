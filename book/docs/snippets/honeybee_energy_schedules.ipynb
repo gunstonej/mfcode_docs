{
 "cells": [
  {
   "cell_type": "markdown",
   "id": "04b1eb7c",
   "metadata": {},
   "source": [
    "# [honeybee-energy schedules](https://www.ladybug.tools/honeybee-energy/docs/honeybee_energy.schedule.html)"
   ]
  },
  {
   "cell_type": "code",
   "execution_count": null,
   "id": "65de144e",
   "metadata": {},
   "outputs": [],
   "source": [
    "\"\"\"\n",
    "make usage schedules from honeybee_energy\n",
    "\n",
    "Reference:\n",
    "    https://www.ladybug.tools/honeybee-energy/docs/honeybee_energy.schedule.html\n",
    "\"\"\"\n",
    "\n",
    "from honeybee_energy.schedule.typelimit import ScheduleTypeLimit\n",
    "from honeybee_energy.schedule.day import ScheduleDay\n",
    "from honeybee_energy.schedule.rule import ScheduleRule\n",
    "from honeybee_energy.schedule.ruleset import ScheduleRuleset"
   ]
  },
  {
   "cell_type": "code",
   "execution_count": null,
   "id": "aab585ba",
   "metadata": {},
   "outputs": [],
   "source": [
    "di_day = {\n",
    "\"type\": 'ScheduleDay',\n",
    "\"identifier\": 'Office_Occ_900_1700',\n",
    "\"display_name\": 'Office Occupancy',\n",
    "\"values\": [0, 1, 0],\n",
    "\"times\": [(0, 0), (9, 0), (17, 0)],\n",
    "\"interpolate\": False\n",
    "}\n",
    "day = ScheduleDay.from_dict(di_day)\n",
    "day.to_dict()"
   ]
  },
  {
   "cell_type": "code",
   "execution_count": null,
   "id": "93fef3c2",
   "metadata": {},
   "outputs": [],
   "source": [
    "di_rule = {\n",
    "    \"type\": 'ScheduleRule',\n",
    "    \"schedule_day\": day.to_dict(),\n",
    "    \"apply_sunday\": False,\n",
    "    \"apply_monday\": True,\n",
    "    \"apply_tuesday\": True,\n",
    "    \"apply_wednesday\": True,\n",
    "    \"apply_thursday\": True,\n",
    "    \"apply_friday\": True,\n",
    "    \"apply_saturday\": False,\n",
    "    \"start_date\": (1, 1),\n",
    "    \"end_date\": (12, 31)\n",
    "}\n",
    "\n",
    "s = ScheduleRule.from_dict(di_rule)"
   ]
  },
  {
   "cell_type": "code",
   "execution_count": null,
   "id": "d8ef07ef",
   "metadata": {},
   "outputs": [],
   "source": [
    "di_tl = {\n",
    "    \"type\": 'ScheduleTypeLimit',\n",
    "    \"identifier\": 'Fractional',\n",
    "    \"display_name\": 'Fractional',\n",
    "    \"lower_limit\": 0,\n",
    "    \"upper_limit\": 1,\n",
    "    \"numeric_type\": \"Discrete\",\n",
    "    \"unit_type\": \"Dimensionless\",\n",
    "}\n",
    "stl = ScheduleTypeLimit.from_dict(di_tl)\n",
    "stl.to_dict()"
   ]
  },
  {
   "cell_type": "code",
   "execution_count": null,
   "id": "2c03e12b",
   "metadata": {},
   "outputs": [],
   "source": [
    "di_ruleset = {\n",
    "\"type\": 'ScheduleRuleset',\n",
    "\"identifier\": 'Office_Occ_900_1700_weekends',\n",
    "\"display_name\": 'Office Occupancy',\n",
    "\"day_schedules\": [day.to_dict()], # Array of ScheduleDay dictionary representations\n",
    "\"default_day_schedule\": \"Office_Occ_900_1700\", # ScheduleDay identifier\n",
    "\"schedule_rules\": [s.to_dict(abridged=True)], # list of ScheduleRuleAbridged dictionaries\n",
    "\"schedule_type_limit\": stl.to_dict(), # ScheduleTypeLimit dictionary representation\n",
    "\"holiday_schedule\": \"Office_Occ_900_1700\", # ScheduleDay identifier\n",
    "\"summer_designday_schedule\": \"Office_Occ_900_1700\", # ScheduleDay identifier\n",
    "\"winter_designday_schedule\": \"Office_Occ_900_1700\" # ScheduleDay identifier\n",
    "}\n",
    "ss = ScheduleRuleset.from_dict(di_ruleset)\n",
    "ss.data_collection()"
   ]
  },
  {
   "cell_type": "code",
   "execution_count": null,
   "id": "c7c28405",
   "metadata": {},
   "outputs": [],
   "source": []
  }
 ],
 "metadata": {
  "jupytext": {
   "formats": "ipynb,py:light"
  },
  "kernelspec": {
   "display_name": "Python 3 (ipykernel)",
   "language": "python",
   "name": "python3"
  },
  "language_info": {
   "codemirror_mode": {
    "name": "ipython",
    "version": 3
   },
   "file_extension": ".py",
   "mimetype": "text/x-python",
   "name": "python",
   "nbconvert_exporter": "python",
   "pygments_lexer": "ipython3",
   "version": "3.8.12"
  }
 },
 "nbformat": 4,
 "nbformat_minor": 5
}
