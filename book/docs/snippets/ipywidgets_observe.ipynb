{
 "cells": [
  {
   "cell_type": "markdown",
   "id": "ef629a87-8bd3-4e3c-91a7-f78f022413f0",
   "metadata": {
    "lines_to_next_cell": 0
   },
   "source": [
    "# Simple UI class with ipywidgets"
   ]
  },
  {
   "cell_type": "code",
   "execution_count": null,
   "id": "f7355e78",
   "metadata": {
    "lines_to_next_cell": 1
   },
   "outputs": [],
   "source": [
    "import ipywidgets as widgets\n",
    "import traitlets"
   ]
  },
  {
   "cell_type": "code",
   "execution_count": null,
   "id": "6ab2c8af",
   "metadata": {
    "lines_to_next_cell": 1
   },
   "outputs": [],
   "source": [
    "class Test(traitlets.HasTraits):\n",
    "    value = traitlets.Unicode()\n",
    "    def __init__(self, value):\n",
    "        self.text = widgets.Text(disabled=True)\n",
    "        self.text1 = widgets.Text()\n",
    "        self.text.value = value"
   ]
  },
  {
   "cell_type": "code",
   "execution_count": null,
   "id": "fdd00e1d",
   "metadata": {
    "lines_to_next_cell": 1
   },
   "outputs": [],
   "source": [
    "class TestControls:\n",
    "    def _init_controls(self):\n",
    "        self.observe(self._update_change, \"value\")\n",
    "        self.text1.observe(self._update_change1, \"value\")\n",
    "        self.text1.observe(self._update_change1_1, \"value\")\n",
    "        \n",
    "    def _update_change(self, onchange):\n",
    "        print('_update_change')\n",
    "        self.text.value = self.value\n",
    "        \n",
    "    def _update_change1(self, onchange):\n",
    "        print('_update_change1')\n",
    "        self.value = self.text1.value + '-ffs'\n",
    "        \n",
    "    def _update_change1_1(self, onchange):\n",
    "        print('_update_change1_1')"
   ]
  },
  {
   "cell_type": "code",
   "execution_count": null,
   "id": "313d9c63",
   "metadata": {
    "lines_to_next_cell": 1
   },
   "outputs": [],
   "source": [
    "class ParentTest(Test, TestControls):\n",
    "    def __init__(self, value):\n",
    "        super().__init__(value)\n",
    "        self._init_controls()\n",
    "        \n",
    "    def _ipython_display_(self):\n",
    "        display(self.text)\n",
    "        display(self.text1)"
   ]
  },
  {
   "cell_type": "code",
   "execution_count": null,
   "id": "a6d49342",
   "metadata": {},
   "outputs": [],
   "source": [
    "if __name__ == \"__main__\":\n",
    "    t = ParentTest('asdf')\n",
    "    display(t)"
   ]
  }
 ],
 "metadata": {
  "jupytext": {
   "cell_metadata_filter": "-all",
   "formats": "ipynb,py:light",
   "main_language": "python"
  },
  "kernelspec": {
   "display_name": "Python 3 (ipykernel)",
   "language": "python",
   "name": "python3"
  },
  "language_info": {
   "codemirror_mode": {
    "name": "ipython",
    "version": 3
   },
   "file_extension": ".py",
   "mimetype": "text/x-python",
   "name": "python",
   "nbconvert_exporter": "python",
   "pygments_lexer": "ipython3",
   "version": "3.8.12"
  }
 },
 "nbformat": 4,
 "nbformat_minor": 5
}
