{
 "cells": [
  {
   "cell_type": "markdown",
   "id": "ed1bd9f5-b875-42b4-8538-d4709374ab3f",
   "metadata": {},
   "source": [
    "# Folder structure from zipfile"
   ]
  },
  {
   "cell_type": "code",
   "execution_count": null,
   "id": "952e2c7e",
   "metadata": {
    "lines_to_next_cell": 1
   },
   "outputs": [],
   "source": [
    "import pathlib\n",
    "import os\n",
    "import zipfile"
   ]
  },
  {
   "cell_type": "code",
   "execution_count": null,
   "id": "a6765662",
   "metadata": {},
   "outputs": [],
   "source": [
    "def folder_structure_from_zip(\n",
    "    fpth_zip,\n",
    "    fdir_dstn: pathlib.Path = pathlib.Path(\".\"),\n",
    "    new_name=None,\n",
    "):\n",
    "    if not fdir_dstn.exists():\n",
    "        fdir_dstn.mkdir()\n",
    "    else:\n",
    "        pass\n",
    "\n",
    "    copyto = fdir_dstn / fpth_zip.stem\n",
    "    if copyto.exists():\n",
    "        raise ValueError(f\"cannot copy to {str(copyto)} as directory already exists\")\n",
    "\n",
    "    if new_name is not None:\n",
    "        renameto = fdir_dstn / new_name\n",
    "        if renameto.exists():\n",
    "            raise ValueError(f\"cannot copy to {str(copyto)} as already exists\")\n",
    "\n",
    "    with zipfile.ZipFile(fpth_zip, \"r\") as zip_ref:\n",
    "        zip_ref.extractall(fdir_dstn)\n",
    "\n",
    "    if new_name is not None:\n",
    "        os.rename(copyto, renameto)\n",
    "        return renameto\n",
    "    else:\n",
    "        return copyto"
   ]
  }
 ],
 "metadata": {
  "jupytext": {
   "cell_metadata_filter": "-all",
   "formats": "ipynb,py",
   "main_language": "python"
  },
  "kernelspec": {
   "display_name": "Python 3 (ipykernel)",
   "language": "python",
   "name": "python3"
  },
  "language_info": {
   "codemirror_mode": {
    "name": "ipython",
    "version": 3
   },
   "file_extension": ".py",
   "mimetype": "text/x-python",
   "name": "python",
   "nbconvert_exporter": "python",
   "pygments_lexer": "ipython3",
   "version": "3.8.12"
  }
 },
 "nbformat": 4,
 "nbformat_minor": 5
}
