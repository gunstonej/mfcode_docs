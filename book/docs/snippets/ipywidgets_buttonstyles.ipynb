{
 "cells": [
  {
   "cell_type": "markdown",
   "id": "131eea44-57c3-48a1-9085-834508b35bca",
   "metadata": {},
   "source": [
    "# Button Styles"
   ]
  },
  {
   "cell_type": "code",
   "execution_count": 1,
   "id": "0afc419d",
   "metadata": {},
   "outputs": [],
   "source": [
    "import ipywidgets as widgets\n",
    "from markdown import markdown"
   ]
  },
  {
   "cell_type": "code",
   "execution_count": 2,
   "id": "a14f6275",
   "metadata": {},
   "outputs": [],
   "source": [
    "def _markdown(value=\"_Markdown_\", **kwargs):\n",
    "    \"\"\"\n",
    "    a simple template for markdown text input that templates required input\n",
    "    fields. additional user defined fields can be added as kwargs\n",
    "    \"\"\"\n",
    "    _kwargs = {}\n",
    "    _kwargs[\"value\"] = markdown(value)  # required field\n",
    "    _kwargs.update(kwargs)  # user overides\n",
    "    return widgets.HTML(**_kwargs)"
   ]
  },
  {
   "cell_type": "code",
   "execution_count": 3,
   "id": "1f540807",
   "metadata": {},
   "outputs": [],
   "source": [
    "def display_button_styles():\n",
    "    \"\"\"displays default ipywidget button styles\"\"\"\n",
    "    styles = [\"primary\", \"success\", \"info\", \"warning\", \"danger\"]\n",
    "    for s in styles:\n",
    "        b = widgets.ToggleButton(description=s, button_style=s)\n",
    "        t = _markdown(\n",
    "            '```widgets.ToggleButton(description=\"{}\", button_style=\"{}\")```'.format(\n",
    "                s, s\n",
    "            )\n",
    "        )\n",
    "        display(widgets.HBox([b, t]))"
   ]
  },
  {
   "cell_type": "code",
   "execution_count": 4,
   "id": "a486788d",
   "metadata": {},
   "outputs": [
    {
     "data": {
      "application/vnd.jupyter.widget-view+json": {
       "model_id": "1124d948f29f4299b3e8eabe57844af2",
       "version_major": 2,
       "version_minor": 0
      },
      "text/plain": [
       "HBox(children=(ToggleButton(value=False, button_style='primary', description='primary'), HTML(value='<p><code>…"
      ]
     },
     "metadata": {},
     "output_type": "display_data"
    },
    {
     "data": {
      "application/vnd.jupyter.widget-view+json": {
       "model_id": "4b406b4c0e2a46f58d88920176e1f646",
       "version_major": 2,
       "version_minor": 0
      },
      "text/plain": [
       "HBox(children=(ToggleButton(value=False, button_style='success', description='success'), HTML(value='<p><code>…"
      ]
     },
     "metadata": {},
     "output_type": "display_data"
    },
    {
     "data": {
      "application/vnd.jupyter.widget-view+json": {
       "model_id": "4c07fd8d3cfa47709c3923f97197f2e7",
       "version_major": 2,
       "version_minor": 0
      },
      "text/plain": [
       "HBox(children=(ToggleButton(value=False, button_style='info', description='info'), HTML(value='<p><code>widget…"
      ]
     },
     "metadata": {},
     "output_type": "display_data"
    },
    {
     "data": {
      "application/vnd.jupyter.widget-view+json": {
       "model_id": "1b7ece71d0b84b9ea31e397577d4d1ba",
       "version_major": 2,
       "version_minor": 0
      },
      "text/plain": [
       "HBox(children=(ToggleButton(value=False, button_style='warning', description='warning'), HTML(value='<p><code>…"
      ]
     },
     "metadata": {},
     "output_type": "display_data"
    },
    {
     "data": {
      "application/vnd.jupyter.widget-view+json": {
       "model_id": "8f3d2584a6a14ec9a1ba5cd694f459b1",
       "version_major": 2,
       "version_minor": 0
      },
      "text/plain": [
       "HBox(children=(ToggleButton(value=False, button_style='danger', description='danger'), HTML(value='<p><code>wi…"
      ]
     },
     "metadata": {},
     "output_type": "display_data"
    }
   ],
   "source": [
    "display_button_styles() "
   ]
  },
  {
   "cell_type": "code",
   "execution_count": null,
   "id": "646ec1ad-eedd-4e0c-9665-c83b96503972",
   "metadata": {},
   "outputs": [],
   "source": []
  }
 ],
 "metadata": {
  "jupytext": {
   "cell_metadata_filter": "-all",
   "formats": "ipynb,py:light",
   "main_language": "python"
  },
  "kernelspec": {
   "display_name": "Python 3 (ipykernel)",
   "language": "python",
   "name": "python3"
  },
  "language_info": {
   "codemirror_mode": {
    "name": "ipython",
    "version": 3
   },
   "file_extension": ".py",
   "mimetype": "text/x-python",
   "name": "python",
   "nbconvert_exporter": "python",
   "pygments_lexer": "ipython3",
   "version": "3.8.12"
  }
 },
 "nbformat": 4,
 "nbformat_minor": 5
}
