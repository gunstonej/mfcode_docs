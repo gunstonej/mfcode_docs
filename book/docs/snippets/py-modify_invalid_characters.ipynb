{
 "cells": [
  {
   "cell_type": "markdown",
   "id": "01de4c88-a863-4256-9243-d8dffafd99f9",
   "metadata": {},
   "source": [
    "# Remove invalid characters from String"
   ]
  },
  {
   "cell_type": "code",
   "execution_count": 1,
   "id": "51034281",
   "metadata": {
    "lines_to_next_cell": 0
   },
   "outputs": [
    {
     "data": {
      "text/plain": [
       "'this is a string with max leng'"
      ]
     },
     "execution_count": 1,
     "metadata": {},
     "output_type": "execute_result"
    }
   ],
   "source": [
    "def modify_string(s, \n",
    "                  remove_forbidden_chars=True, \n",
    "                  remove_spaces=False, \n",
    "                  fn_on_string=None,\n",
    "                  max_length=None,\n",
    "                  min_length=None):\n",
    "    \"\"\"\n",
    "    validate on a string\n",
    "    \n",
    "    Reference:\n",
    "        [naming-a-file](https://docs.microsoft.com/en-us/windows/win32/fileio/naming-a-file)\n",
    "    \"\"\"\n",
    "    if remove_spaces:\n",
    "        s = s.replace(\" \", \"\")\n",
    "    if remove_forbidden_chars:\n",
    "        for c in FILENAME_FORBIDDEN_CHARACTERS:\n",
    "            s = s.replace(c, \"\")\n",
    "    if fn_on_string is not None:\n",
    "        s = fn_on_string(s)\n",
    "    if min_length is not None:\n",
    "        if len(s) < min_length:\n",
    "            s = s + \"-\"*(min_length-len(s))\n",
    "    if max_length is not None:\n",
    "        if len(s) > max_length:\n",
    "            s = s[0:max_length]\n",
    "    return s\n",
    "\n",
    "FILENAME_FORBIDDEN_CHARACTERS = {\"<\", \">\", \":\", '\"', \"/\", \"\\\\\", \"|\", \"?\", \"*\"}\n",
    "modify_string('<this> is a string with max length',max_length=30)"
   ]
  }
 ],
 "metadata": {
  "jupytext": {
   "cell_metadata_filter": "-all",
   "formats": "ipynb,py"
  },
  "kernelspec": {
   "display_name": "Python 3 (ipykernel)",
   "language": "python",
   "name": "python3"
  },
  "language_info": {
   "codemirror_mode": {
    "name": "ipython",
    "version": 3
   },
   "file_extension": ".py",
   "mimetype": "text/x-python",
   "name": "python",
   "nbconvert_exporter": "python",
   "pygments_lexer": "ipython3",
   "version": "3.8.12"
  }
 },
 "nbformat": 4,
 "nbformat_minor": 5
}
